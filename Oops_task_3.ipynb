{
 "cells": [
  {
   "cell_type": "markdown",
   "metadata": {},
   "source": [
    "Q1. What is Abstraction in OOps? Explain with an example."
   ]
  },
  {
   "cell_type": "markdown",
   "metadata": {},
   "source": [
    "Abstraction in OOP is the concept of hiding complex details and showing only the essential features of an object. It simplifies interactions by focusing on what an object does rather than how it does it. Abstraction allows developers to work with high-level constructs without being bogged down by the internal workings of those constructs.\n",
    "Example:-\n",
    "from abc import ABC, abstractmethod\n",
    "\n"
   ]
  },
  {
   "cell_type": "code",
   "execution_count": 6,
   "metadata": {},
   "outputs": [],
   "source": [
    "import abc\n",
    "from abc import ABC, abstractmethod\n",
    "class Animal(ABC):\n",
    "    @abstractmethod\n",
    "    def sound(self):\n",
    "        \"Abstract method that must be implemented in derived classes\"\n",
    "        pass\n",
    "\n",
    "    @abstractmethod\n",
    "    def habitat(self):\n",
    "        \"Abstract method that must be implemented in derived classes\"\n",
    "        pass\n",
    "# Derived Class 1\n",
    "class Dog(Animal):\n",
    "    def sound(self):\n",
    "        return \"Barks\"\n",
    "\n",
    "    def habitat(self):\n",
    "        return \"Domestic\"\n",
    "\n",
    "# Derived Class 2\n",
    "class Bird(Animal):\n",
    "    def sound(self):\n",
    "        return \"Chirps\"\n",
    "\n",
    "    def habitat(self):\n",
    "        return \"Forests\"\n"
   ]
  },
  {
   "cell_type": "code",
   "execution_count": 11,
   "metadata": {},
   "outputs": [],
   "source": [
    "dog = Dog()\n",
    "bird = Bird()"
   ]
  },
  {
   "cell_type": "code",
   "execution_count": 12,
   "metadata": {},
   "outputs": [
    {
     "name": "stdout",
     "output_type": "stream",
     "text": [
      "Dog: Barks, Habitat: Domestic\n"
     ]
    }
   ],
   "source": [
    "print(f\"Dog: {dog.sound()}, Habitat: {dog.habitat()}\")  "
   ]
  },
  {
   "cell_type": "code",
   "execution_count": 13,
   "metadata": {},
   "outputs": [
    {
     "name": "stdout",
     "output_type": "stream",
     "text": [
      "Bird: Chirps, Habitat: Forests\n"
     ]
    }
   ],
   "source": [
    "print(f\"Bird: {bird.sound()}, Habitat: {bird.habitat()}\")"
   ]
  },
  {
   "cell_type": "markdown",
   "metadata": {},
   "source": [
    "Q2. Differentiate between Abstraction and Encapsulation. Explain with an example"
   ]
  },
  {
   "cell_type": "markdown",
   "metadata": {},
   "source": [
    "Difference between Abstraction and Encapsulation\n",
    "i. Abstraction hides complexity by exposing only essential parts.\n",
    "   Encapsulation bundles data and methods to protect and organize data.\n",
    "ii. Abstraction focuses on what an object does.\n",
    "    Encapsulation focuses on how data is stored and managed securely.\n",
    "iii. Abstraction used to reduce complexity by showing only relevant features.\n",
    "     Encapsulation used to prevent unauthorized access and modification of data.\n",
    "\n",
    "Example:-\n",
    "Abstraction for hiding complexity :\n",
    "We create an abstract class that defines high-level operations (e.g., withdraw() and deposit()), but the internal calculations (like transaction processing) aren’t shown to the user."
   ]
  },
  {
   "cell_type": "code",
   "execution_count": 14,
   "metadata": {},
   "outputs": [],
   "source": [
    "from abc import ABC, abstractmethod\n",
    "\n",
    "class Account(ABC):\n",
    "    @abstractmethod\n",
    "    def deposit(self, amount):\n",
    "        pass\n",
    "\n",
    "    @abstractmethod\n",
    "    def withdraw(self, amount):\n",
    "        pass"
   ]
  },
  {
   "cell_type": "markdown",
   "metadata": {},
   "source": [
    "Encapsulation for data Hiding and Control :\n",
    "The BankAccount class encapsulates the balance attribute, making it private. This prevents direct access or modification, ensuring only controlled access via methods."
   ]
  },
  {
   "cell_type": "code",
   "execution_count": 16,
   "metadata": {},
   "outputs": [],
   "source": [
    "class BankAccount(Account):\n",
    "    def __init__(self, initial_balance=0):\n",
    "        self.__balance = initial_balance  # Private attribute\n",
    "\n",
    "    def deposit(self, amount):\n",
    "        if amount > 0:\n",
    "            self.__balance += amount\n",
    "            print(f\"Deposited {amount}. New balance: {self.__balance}\")\n",
    "\n",
    "    def withdraw(self, amount):\n",
    "        if 0 < amount <= self.__balance:\n",
    "            self.__balance -= amount\n",
    "            print(f\"Withdrew {amount}. New balance: {self.__balance}\")\n",
    "        else:\n",
    "            print(\"Insufficient funds or invalid amount\")\n",
    "\n",
    "    def get_balance(self):   \n",
    "        return self.__balance"
   ]
  },
  {
   "cell_type": "code",
   "execution_count": 17,
   "metadata": {},
   "outputs": [],
   "source": [
    "account = BankAccount(100)"
   ]
  },
  {
   "cell_type": "code",
   "execution_count": 18,
   "metadata": {},
   "outputs": [
    {
     "name": "stdout",
     "output_type": "stream",
     "text": [
      "Deposited 500. New balance: 600\n"
     ]
    }
   ],
   "source": [
    "account.deposit(500)"
   ]
  },
  {
   "cell_type": "code",
   "execution_count": 19,
   "metadata": {},
   "outputs": [
    {
     "data": {
      "text/plain": [
       "600"
      ]
     },
     "execution_count": 19,
     "metadata": {},
     "output_type": "execute_result"
    }
   ],
   "source": [
    "account.get_balance()"
   ]
  },
  {
   "cell_type": "code",
   "execution_count": 20,
   "metadata": {},
   "outputs": [
    {
     "name": "stdout",
     "output_type": "stream",
     "text": [
      "Withdrew 250. New balance: 350\n"
     ]
    }
   ],
   "source": [
    "account.withdraw(250)"
   ]
  },
  {
   "cell_type": "markdown",
   "metadata": {},
   "source": [
    "Q3. What is abc module in python? Why is it used?"
   ]
  },
  {
   "cell_type": "markdown",
   "metadata": {},
   "source": [
    "The abc module in Python stands for Abstract Base Classes. It provides a way to define abstract classes, which are classes that serve as blueprints for other classes but are not intended to be instantiated on their own. Instead, they enforce that any subclass provides specific methods, ensuring a consistent interface across subclasses.\n",
    "\n",
    "The abc module is a powerful tool in Python for creating abstract classes and enforcing a consistent interface across subclasses, leading to cleaner, more structured, and reusable code. It encourages subclass consistency, supports polymorphism, and helps in designing flexible, scalable systems."
   ]
  },
  {
   "cell_type": "markdown",
   "metadata": {},
   "source": [
    "Q4. How can we achieve data abstraction?"
   ]
  },
  {
   "cell_type": "markdown",
   "metadata": {},
   "source": [
    "Achieving data abstraction involves employing various programming paradigms, design principles, and architectural patterns. By focusing on interfaces and behaviors rather than implementation details, developers can create flexible, maintainable, and reusable systems. This simplifies development and enhances the ability to manage complexity in software projects."
   ]
  },
  {
   "cell_type": "markdown",
   "metadata": {},
   "source": [
    "Q5. Can we create an instance of an abstract class? Explain your answer."
   ]
  },
  {
   "cell_type": "markdown",
   "metadata": {},
   "source": [
    "No, we cannot create an instance of an abstract class in Python.\n",
    "\n",
    "An abstract class is designed to serve as a blueprint for other classes and is not meant to be instantiated on its own. It contains one or more abstract methods (methods without implementation), which require that any subclass provides specific implementations for these methods. The purpose of an abstract class is to enforce that subclasses follow a particular structure, ensuring that they implement specific methods before they can be used.\n",
    "\n",
    "Python enforces this by raising an error if you try to instantiate an abstract class directly. This helps prevent incomplete objects from being created, as an abstract class often has methods that don’t have full implementations."
   ]
  }
 ],
 "metadata": {
  "kernelspec": {
   "display_name": "Python 3",
   "language": "python",
   "name": "python3"
  },
  "language_info": {
   "codemirror_mode": {
    "name": "ipython",
    "version": 3
   },
   "file_extension": ".py",
   "mimetype": "text/x-python",
   "name": "python",
   "nbconvert_exporter": "python",
   "pygments_lexer": "ipython3",
   "version": "3.12.6"
  }
 },
 "nbformat": 4,
 "nbformat_minor": 2
}
